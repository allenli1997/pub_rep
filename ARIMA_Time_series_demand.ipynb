{
  "cells": [
    {
      "cell_type": "code",
      "execution_count": null,
      "metadata": {
        "id": "Ks7KVwtxG3Qw"
      },
      "outputs": [],
      "source": [
        "# pip install pmdarima"
      ]
    },
    {
      "cell_type": "code",
      "execution_count": null,
      "metadata": {
        "id": "vlLQkBV1G3Qx"
      },
      "outputs": [],
      "source": [
        "import pandas as pd\n",
        "import numpy as np\n",
        "import matplotlib.pyplot as plt\n",
        "%matplotlib inline\n",
        "from matplotlib.pylab import rcParams\n",
        "import seaborn as sns\n",
        "import statistics\n",
        "from datetime import datetime, timedelta\n",
        "# ignore harmless warnings\n",
        "import warnings\n",
        "warnings.filterwarnings(\"ignore\")"
      ]
    },
    {
      "cell_type": "markdown",
      "metadata": {
        "id": "lxAKe-GUG3Qy"
      },
      "source": [
        "### Step 1: read the data"
      ]
    },
    {
      "cell_type": "code",
      "execution_count": null,
      "metadata": {
        "colab": {
          "base_uri": "https://localhost:8080/",
          "height": 354
        },
        "id": "4y8ohToEG3RA",
        "outputId": "35f84c70-d42a-451e-d193-25d9ec457070"
      },
      "outputs": [
        {
          "output_type": "execute_result",
          "data": {
            "text/plain": [
              "   goods_id                                      goods_ename  \\\n",
              "0       588  Natural Yeast Bread Hokkaido Creamy Flavor, 80g   \n",
              "1       588  Natural Yeast Bread Hokkaido Creamy Flavor, 80g   \n",
              "2       588  Natural Yeast Bread Hokkaido Creamy Flavor, 80g   \n",
              "3       588  Natural Yeast Bread Hokkaido Creamy Flavor, 80g   \n",
              "4       588  Natural Yeast Bread Hokkaido Creamy Flavor, 80g   \n",
              "\n",
              "   #xog.market_price, xog.goods_price,\\navg(xog.deal_price)  count_item_sold  \\\n",
              "0                                           1.804744                      78   \n",
              "1                                           1.815556                       9   \n",
              "2                                           1.660000                       1   \n",
              "3                                           1.823906                      64   \n",
              "4                                           1.757547                     106   \n",
              "\n",
              "       date            domain                  category         subcategory  \n",
              "0  20220301  Snack & Beverage  Cookies, Cakes, Desserts  Cakes, Bread, Pies  \n",
              "1  20220302  Snack & Beverage  Cookies, Cakes, Desserts  Cakes, Bread, Pies  \n",
              "2  20220311  Snack & Beverage  Cookies, Cakes, Desserts  Cakes, Bread, Pies  \n",
              "3  20220419  Snack & Beverage  Cookies, Cakes, Desserts  Cakes, Bread, Pies  \n",
              "4  20220420  Snack & Beverage  Cookies, Cakes, Desserts  Cakes, Bread, Pies  "
            ],
            "text/html": [
              "\n",
              "  <div id=\"df-7eaa88d6-1817-4a61-a7b7-86558010ef87\">\n",
              "    <div class=\"colab-df-container\">\n",
              "      <div>\n",
              "<style scoped>\n",
              "    .dataframe tbody tr th:only-of-type {\n",
              "        vertical-align: middle;\n",
              "    }\n",
              "\n",
              "    .dataframe tbody tr th {\n",
              "        vertical-align: top;\n",
              "    }\n",
              "\n",
              "    .dataframe thead th {\n",
              "        text-align: right;\n",
              "    }\n",
              "</style>\n",
              "<table border=\"1\" class=\"dataframe\">\n",
              "  <thead>\n",
              "    <tr style=\"text-align: right;\">\n",
              "      <th></th>\n",
              "      <th>goods_id</th>\n",
              "      <th>goods_ename</th>\n",
              "      <th>#xog.market_price, xog.goods_price,\\navg(xog.deal_price)</th>\n",
              "      <th>count_item_sold</th>\n",
              "      <th>date</th>\n",
              "      <th>domain</th>\n",
              "      <th>category</th>\n",
              "      <th>subcategory</th>\n",
              "    </tr>\n",
              "  </thead>\n",
              "  <tbody>\n",
              "    <tr>\n",
              "      <th>0</th>\n",
              "      <td>588</td>\n",
              "      <td>Natural Yeast Bread Hokkaido Creamy Flavor, 80g</td>\n",
              "      <td>1.804744</td>\n",
              "      <td>78</td>\n",
              "      <td>20220301</td>\n",
              "      <td>Snack &amp; Beverage</td>\n",
              "      <td>Cookies, Cakes, Desserts</td>\n",
              "      <td>Cakes, Bread, Pies</td>\n",
              "    </tr>\n",
              "    <tr>\n",
              "      <th>1</th>\n",
              "      <td>588</td>\n",
              "      <td>Natural Yeast Bread Hokkaido Creamy Flavor, 80g</td>\n",
              "      <td>1.815556</td>\n",
              "      <td>9</td>\n",
              "      <td>20220302</td>\n",
              "      <td>Snack &amp; Beverage</td>\n",
              "      <td>Cookies, Cakes, Desserts</td>\n",
              "      <td>Cakes, Bread, Pies</td>\n",
              "    </tr>\n",
              "    <tr>\n",
              "      <th>2</th>\n",
              "      <td>588</td>\n",
              "      <td>Natural Yeast Bread Hokkaido Creamy Flavor, 80g</td>\n",
              "      <td>1.660000</td>\n",
              "      <td>1</td>\n",
              "      <td>20220311</td>\n",
              "      <td>Snack &amp; Beverage</td>\n",
              "      <td>Cookies, Cakes, Desserts</td>\n",
              "      <td>Cakes, Bread, Pies</td>\n",
              "    </tr>\n",
              "    <tr>\n",
              "      <th>3</th>\n",
              "      <td>588</td>\n",
              "      <td>Natural Yeast Bread Hokkaido Creamy Flavor, 80g</td>\n",
              "      <td>1.823906</td>\n",
              "      <td>64</td>\n",
              "      <td>20220419</td>\n",
              "      <td>Snack &amp; Beverage</td>\n",
              "      <td>Cookies, Cakes, Desserts</td>\n",
              "      <td>Cakes, Bread, Pies</td>\n",
              "    </tr>\n",
              "    <tr>\n",
              "      <th>4</th>\n",
              "      <td>588</td>\n",
              "      <td>Natural Yeast Bread Hokkaido Creamy Flavor, 80g</td>\n",
              "      <td>1.757547</td>\n",
              "      <td>106</td>\n",
              "      <td>20220420</td>\n",
              "      <td>Snack &amp; Beverage</td>\n",
              "      <td>Cookies, Cakes, Desserts</td>\n",
              "      <td>Cakes, Bread, Pies</td>\n",
              "    </tr>\n",
              "  </tbody>\n",
              "</table>\n",
              "</div>\n",
              "      <button class=\"colab-df-convert\" onclick=\"convertToInteractive('df-7eaa88d6-1817-4a61-a7b7-86558010ef87')\"\n",
              "              title=\"Convert this dataframe to an interactive table.\"\n",
              "              style=\"display:none;\">\n",
              "        \n",
              "  <svg xmlns=\"http://www.w3.org/2000/svg\" height=\"24px\"viewBox=\"0 0 24 24\"\n",
              "       width=\"24px\">\n",
              "    <path d=\"M0 0h24v24H0V0z\" fill=\"none\"/>\n",
              "    <path d=\"M18.56 5.44l.94 2.06.94-2.06 2.06-.94-2.06-.94-.94-2.06-.94 2.06-2.06.94zm-11 1L8.5 8.5l.94-2.06 2.06-.94-2.06-.94L8.5 2.5l-.94 2.06-2.06.94zm10 10l.94 2.06.94-2.06 2.06-.94-2.06-.94-.94-2.06-.94 2.06-2.06.94z\"/><path d=\"M17.41 7.96l-1.37-1.37c-.4-.4-.92-.59-1.43-.59-.52 0-1.04.2-1.43.59L10.3 9.45l-7.72 7.72c-.78.78-.78 2.05 0 2.83L4 21.41c.39.39.9.59 1.41.59.51 0 1.02-.2 1.41-.59l7.78-7.78 2.81-2.81c.8-.78.8-2.07 0-2.86zM5.41 20L4 18.59l7.72-7.72 1.47 1.35L5.41 20z\"/>\n",
              "  </svg>\n",
              "      </button>\n",
              "      \n",
              "  <style>\n",
              "    .colab-df-container {\n",
              "      display:flex;\n",
              "      flex-wrap:wrap;\n",
              "      gap: 12px;\n",
              "    }\n",
              "\n",
              "    .colab-df-convert {\n",
              "      background-color: #E8F0FE;\n",
              "      border: none;\n",
              "      border-radius: 50%;\n",
              "      cursor: pointer;\n",
              "      display: none;\n",
              "      fill: #1967D2;\n",
              "      height: 32px;\n",
              "      padding: 0 0 0 0;\n",
              "      width: 32px;\n",
              "    }\n",
              "\n",
              "    .colab-df-convert:hover {\n",
              "      background-color: #E2EBFA;\n",
              "      box-shadow: 0px 1px 2px rgba(60, 64, 67, 0.3), 0px 1px 3px 1px rgba(60, 64, 67, 0.15);\n",
              "      fill: #174EA6;\n",
              "    }\n",
              "\n",
              "    [theme=dark] .colab-df-convert {\n",
              "      background-color: #3B4455;\n",
              "      fill: #D2E3FC;\n",
              "    }\n",
              "\n",
              "    [theme=dark] .colab-df-convert:hover {\n",
              "      background-color: #434B5C;\n",
              "      box-shadow: 0px 1px 3px 1px rgba(0, 0, 0, 0.15);\n",
              "      filter: drop-shadow(0px 1px 2px rgba(0, 0, 0, 0.3));\n",
              "      fill: #FFFFFF;\n",
              "    }\n",
              "  </style>\n",
              "\n",
              "      <script>\n",
              "        const buttonEl =\n",
              "          document.querySelector('#df-7eaa88d6-1817-4a61-a7b7-86558010ef87 button.colab-df-convert');\n",
              "        buttonEl.style.display =\n",
              "          google.colab.kernel.accessAllowed ? 'block' : 'none';\n",
              "\n",
              "        async function convertToInteractive(key) {\n",
              "          const element = document.querySelector('#df-7eaa88d6-1817-4a61-a7b7-86558010ef87');\n",
              "          const dataTable =\n",
              "            await google.colab.kernel.invokeFunction('convertToInteractive',\n",
              "                                                     [key], {});\n",
              "          if (!dataTable) return;\n",
              "\n",
              "          const docLinkHtml = 'Like what you see? Visit the ' +\n",
              "            '<a target=\"_blank\" href=https://colab.research.google.com/notebooks/data_table.ipynb>data table notebook</a>'\n",
              "            + ' to learn more about interactive tables.';\n",
              "          element.innerHTML = '';\n",
              "          dataTable['output_type'] = 'display_data';\n",
              "          await google.colab.output.renderOutput(dataTable, element);\n",
              "          const docLink = document.createElement('div');\n",
              "          docLink.innerHTML = docLinkHtml;\n",
              "          element.appendChild(docLink);\n",
              "        }\n",
              "      </script>\n",
              "    </div>\n",
              "  </div>\n",
              "  "
            ]
          },
          "metadata": {},
          "execution_count": 3
        }
      ],
      "source": [
        "top100 = pd.read_csv(\"Yami_USA_Itemsold_counts_1.1.2022-10.1.2022.csv\")\n",
        "top100.head()"
      ]
    },
    {
      "cell_type": "code",
      "execution_count": null,
      "metadata": {
        "colab": {
          "base_uri": "https://localhost:8080/"
        },
        "id": "h_GAI_zsG3RD",
        "outputId": "dc138b72-6c6c-4a02-d495-7a60c0dd6833"
      },
      "outputs": [
        {
          "output_type": "execute_result",
          "data": {
            "text/plain": [
              "(19512, 8)"
            ]
          },
          "metadata": {},
          "execution_count": 4
        }
      ],
      "source": [
        "top100.shape"
      ]
    },
    {
      "cell_type": "code",
      "execution_count": null,
      "metadata": {
        "colab": {
          "base_uri": "https://localhost:8080/"
        },
        "id": "YenQUFJLG3RD",
        "outputId": "fb759c09-9a90-40f0-da11-d1973859f896"
      },
      "outputs": [
        {
          "output_type": "execute_result",
          "data": {
            "text/plain": [
              "False"
            ]
          },
          "metadata": {},
          "execution_count": 5
        }
      ],
      "source": [
        "top100.isnull().values.any()"
      ]
    },
    {
      "cell_type": "code",
      "execution_count": null,
      "metadata": {
        "colab": {
          "base_uri": "https://localhost:8080/"
        },
        "id": "GZYVZ2YmG3RE",
        "outputId": "3230d855-7dc9-41a7-cced-bfc0481c0d26"
      },
      "outputs": [
        {
          "output_type": "stream",
          "name": "stdout",
          "text": [
            "<class 'pandas.core.frame.DataFrame'>\n",
            "RangeIndex: 19512 entries, 0 to 19511\n",
            "Data columns (total 8 columns):\n",
            " #   Column                                                   Non-Null Count  Dtype  \n",
            "---  ------                                                   --------------  -----  \n",
            " 0   goods_id                                                 19512 non-null  int64  \n",
            " 1   goods_ename                                              19512 non-null  object \n",
            " 2   #xog.market_price, xog.goods_price,\n",
            "avg(xog.deal_price)  19512 non-null  float64\n",
            " 3   count_item_sold                                          19512 non-null  int64  \n",
            " 4   date                                                     19512 non-null  int64  \n",
            " 5   domain                                                   19512 non-null  object \n",
            " 6   category                                                 19512 non-null  object \n",
            " 7   subcategory                                              19512 non-null  object \n",
            "dtypes: float64(1), int64(3), object(4)\n",
            "memory usage: 1.2+ MB\n"
          ]
        }
      ],
      "source": [
        "top100.info()\n",
        "# top100.describe()"
      ]
    },
    {
      "cell_type": "code",
      "execution_count": null,
      "metadata": {
        "id": "VhY2vNhWG3RE"
      },
      "outputs": [],
      "source": [
        "# convert 'goods_id' variable from int to object\n",
        "top100['goods_id'] = top100['goods_id'].astype(str)"
      ]
    },
    {
      "cell_type": "code",
      "execution_count": null,
      "metadata": {
        "id": "s1NNxXGVG3RE"
      },
      "outputs": [],
      "source": [
        "# convert 'date' variable from int to datetime\n",
        "top100['date']=pd.to_datetime(top100['date'],format = '%Y%m%d')"
      ]
    },
    {
      "cell_type": "markdown",
      "metadata": {
        "id": "fHU3bDXUG3RF"
      },
      "source": [
        "### Step 2: Resample\n",
        "### *Weekly Demand for TOP 1 Product (goods_id = 325781)*"
      ]
    },
    {
      "cell_type": "code",
      "execution_count": null,
      "metadata": {
        "colab": {
          "base_uri": "https://localhost:8080/",
          "height": 372
        },
        "id": "S3l_i-3lG3RF",
        "outputId": "c66308eb-a836-47c6-fe12-594d29e3c5bd"
      },
      "outputs": [
        {
          "output_type": "stream",
          "name": "stdout",
          "text": [
            "Shape of data (250, 8)\n"
          ]
        },
        {
          "output_type": "execute_result",
          "data": {
            "text/plain": [
              "      goods_id                       goods_ename  \\\n",
              "15051   325781  Muffin Original Flavor 495g 15pc   \n",
              "15052   325781  Muffin Original Flavor 495g 15pc   \n",
              "15053   325781  Muffin Original Flavor 495g 15pc   \n",
              "15054   325781  Muffin Original Flavor 495g 15pc   \n",
              "15055   325781  Muffin Original Flavor 495g 15pc   \n",
              "\n",
              "       #xog.market_price, xog.goods_price,\\navg(xog.deal_price)  \\\n",
              "15051                                           9.785399          \n",
              "15052                                          10.584765          \n",
              "15053                                          10.539181          \n",
              "15054                                          10.620952          \n",
              "15055                                          10.633258          \n",
              "\n",
              "       count_item_sold       date            domain                  category  \\\n",
              "15051              313 2022-01-01  Snack & Beverage  Cookies, Cakes, Desserts   \n",
              "15052              170 2022-01-02  Snack & Beverage  Cookies, Cakes, Desserts   \n",
              "15053              171 2022-01-03  Snack & Beverage  Cookies, Cakes, Desserts   \n",
              "15054              189 2022-01-04  Snack & Beverage  Cookies, Cakes, Desserts   \n",
              "15055              178 2022-01-05  Snack & Beverage  Cookies, Cakes, Desserts   \n",
              "\n",
              "              subcategory  \n",
              "15051  Cakes, Bread, Pies  \n",
              "15052  Cakes, Bread, Pies  \n",
              "15053  Cakes, Bread, Pies  \n",
              "15054  Cakes, Bread, Pies  \n",
              "15055  Cakes, Bread, Pies  "
            ],
            "text/html": [
              "\n",
              "  <div id=\"df-87508152-1bf4-4476-95bb-9a2cd6a396ad\">\n",
              "    <div class=\"colab-df-container\">\n",
              "      <div>\n",
              "<style scoped>\n",
              "    .dataframe tbody tr th:only-of-type {\n",
              "        vertical-align: middle;\n",
              "    }\n",
              "\n",
              "    .dataframe tbody tr th {\n",
              "        vertical-align: top;\n",
              "    }\n",
              "\n",
              "    .dataframe thead th {\n",
              "        text-align: right;\n",
              "    }\n",
              "</style>\n",
              "<table border=\"1\" class=\"dataframe\">\n",
              "  <thead>\n",
              "    <tr style=\"text-align: right;\">\n",
              "      <th></th>\n",
              "      <th>goods_id</th>\n",
              "      <th>goods_ename</th>\n",
              "      <th>#xog.market_price, xog.goods_price,\\navg(xog.deal_price)</th>\n",
              "      <th>count_item_sold</th>\n",
              "      <th>date</th>\n",
              "      <th>domain</th>\n",
              "      <th>category</th>\n",
              "      <th>subcategory</th>\n",
              "    </tr>\n",
              "  </thead>\n",
              "  <tbody>\n",
              "    <tr>\n",
              "      <th>15051</th>\n",
              "      <td>325781</td>\n",
              "      <td>Muffin Original Flavor 495g 15pc</td>\n",
              "      <td>9.785399</td>\n",
              "      <td>313</td>\n",
              "      <td>2022-01-01</td>\n",
              "      <td>Snack &amp; Beverage</td>\n",
              "      <td>Cookies, Cakes, Desserts</td>\n",
              "      <td>Cakes, Bread, Pies</td>\n",
              "    </tr>\n",
              "    <tr>\n",
              "      <th>15052</th>\n",
              "      <td>325781</td>\n",
              "      <td>Muffin Original Flavor 495g 15pc</td>\n",
              "      <td>10.584765</td>\n",
              "      <td>170</td>\n",
              "      <td>2022-01-02</td>\n",
              "      <td>Snack &amp; Beverage</td>\n",
              "      <td>Cookies, Cakes, Desserts</td>\n",
              "      <td>Cakes, Bread, Pies</td>\n",
              "    </tr>\n",
              "    <tr>\n",
              "      <th>15053</th>\n",
              "      <td>325781</td>\n",
              "      <td>Muffin Original Flavor 495g 15pc</td>\n",
              "      <td>10.539181</td>\n",
              "      <td>171</td>\n",
              "      <td>2022-01-03</td>\n",
              "      <td>Snack &amp; Beverage</td>\n",
              "      <td>Cookies, Cakes, Desserts</td>\n",
              "      <td>Cakes, Bread, Pies</td>\n",
              "    </tr>\n",
              "    <tr>\n",
              "      <th>15054</th>\n",
              "      <td>325781</td>\n",
              "      <td>Muffin Original Flavor 495g 15pc</td>\n",
              "      <td>10.620952</td>\n",
              "      <td>189</td>\n",
              "      <td>2022-01-04</td>\n",
              "      <td>Snack &amp; Beverage</td>\n",
              "      <td>Cookies, Cakes, Desserts</td>\n",
              "      <td>Cakes, Bread, Pies</td>\n",
              "    </tr>\n",
              "    <tr>\n",
              "      <th>15055</th>\n",
              "      <td>325781</td>\n",
              "      <td>Muffin Original Flavor 495g 15pc</td>\n",
              "      <td>10.633258</td>\n",
              "      <td>178</td>\n",
              "      <td>2022-01-05</td>\n",
              "      <td>Snack &amp; Beverage</td>\n",
              "      <td>Cookies, Cakes, Desserts</td>\n",
              "      <td>Cakes, Bread, Pies</td>\n",
              "    </tr>\n",
              "  </tbody>\n",
              "</table>\n",
              "</div>\n",
              "      <button class=\"colab-df-convert\" onclick=\"convertToInteractive('df-87508152-1bf4-4476-95bb-9a2cd6a396ad')\"\n",
              "              title=\"Convert this dataframe to an interactive table.\"\n",
              "              style=\"display:none;\">\n",
              "        \n",
              "  <svg xmlns=\"http://www.w3.org/2000/svg\" height=\"24px\"viewBox=\"0 0 24 24\"\n",
              "       width=\"24px\">\n",
              "    <path d=\"M0 0h24v24H0V0z\" fill=\"none\"/>\n",
              "    <path d=\"M18.56 5.44l.94 2.06.94-2.06 2.06-.94-2.06-.94-.94-2.06-.94 2.06-2.06.94zm-11 1L8.5 8.5l.94-2.06 2.06-.94-2.06-.94L8.5 2.5l-.94 2.06-2.06.94zm10 10l.94 2.06.94-2.06 2.06-.94-2.06-.94-.94-2.06-.94 2.06-2.06.94z\"/><path d=\"M17.41 7.96l-1.37-1.37c-.4-.4-.92-.59-1.43-.59-.52 0-1.04.2-1.43.59L10.3 9.45l-7.72 7.72c-.78.78-.78 2.05 0 2.83L4 21.41c.39.39.9.59 1.41.59.51 0 1.02-.2 1.41-.59l7.78-7.78 2.81-2.81c.8-.78.8-2.07 0-2.86zM5.41 20L4 18.59l7.72-7.72 1.47 1.35L5.41 20z\"/>\n",
              "  </svg>\n",
              "      </button>\n",
              "      \n",
              "  <style>\n",
              "    .colab-df-container {\n",
              "      display:flex;\n",
              "      flex-wrap:wrap;\n",
              "      gap: 12px;\n",
              "    }\n",
              "\n",
              "    .colab-df-convert {\n",
              "      background-color: #E8F0FE;\n",
              "      border: none;\n",
              "      border-radius: 50%;\n",
              "      cursor: pointer;\n",
              "      display: none;\n",
              "      fill: #1967D2;\n",
              "      height: 32px;\n",
              "      padding: 0 0 0 0;\n",
              "      width: 32px;\n",
              "    }\n",
              "\n",
              "    .colab-df-convert:hover {\n",
              "      background-color: #E2EBFA;\n",
              "      box-shadow: 0px 1px 2px rgba(60, 64, 67, 0.3), 0px 1px 3px 1px rgba(60, 64, 67, 0.15);\n",
              "      fill: #174EA6;\n",
              "    }\n",
              "\n",
              "    [theme=dark] .colab-df-convert {\n",
              "      background-color: #3B4455;\n",
              "      fill: #D2E3FC;\n",
              "    }\n",
              "\n",
              "    [theme=dark] .colab-df-convert:hover {\n",
              "      background-color: #434B5C;\n",
              "      box-shadow: 0px 1px 3px 1px rgba(0, 0, 0, 0.15);\n",
              "      filter: drop-shadow(0px 1px 2px rgba(0, 0, 0, 0.3));\n",
              "      fill: #FFFFFF;\n",
              "    }\n",
              "  </style>\n",
              "\n",
              "      <script>\n",
              "        const buttonEl =\n",
              "          document.querySelector('#df-87508152-1bf4-4476-95bb-9a2cd6a396ad button.colab-df-convert');\n",
              "        buttonEl.style.display =\n",
              "          google.colab.kernel.accessAllowed ? 'block' : 'none';\n",
              "\n",
              "        async function convertToInteractive(key) {\n",
              "          const element = document.querySelector('#df-87508152-1bf4-4476-95bb-9a2cd6a396ad');\n",
              "          const dataTable =\n",
              "            await google.colab.kernel.invokeFunction('convertToInteractive',\n",
              "                                                     [key], {});\n",
              "          if (!dataTable) return;\n",
              "\n",
              "          const docLinkHtml = 'Like what you see? Visit the ' +\n",
              "            '<a target=\"_blank\" href=https://colab.research.google.com/notebooks/data_table.ipynb>data table notebook</a>'\n",
              "            + ' to learn more about interactive tables.';\n",
              "          element.innerHTML = '';\n",
              "          dataTable['output_type'] = 'display_data';\n",
              "          await google.colab.output.renderOutput(dataTable, element);\n",
              "          const docLink = document.createElement('div');\n",
              "          docLink.innerHTML = docLinkHtml;\n",
              "          element.appendChild(docLink);\n",
              "        }\n",
              "      </script>\n",
              "    </div>\n",
              "  </div>\n",
              "  "
            ]
          },
          "metadata": {},
          "execution_count": 9
        }
      ],
      "source": [
        "top1 = top100[top100['goods_id']=='325781']\n",
        "print('Shape of data', top1.shape)\n",
        "top1.head()"
      ]
    },
    {
      "cell_type": "code",
      "execution_count": null,
      "metadata": {
        "colab": {
          "base_uri": "https://localhost:8080/",
          "height": 295
        },
        "id": "wTbsbNVoG3RF",
        "outputId": "8714f1de-f10e-467e-852d-fa6b25c56cc5"
      },
      "outputs": [
        {
          "output_type": "display_data",
          "data": {
            "text/plain": [
              "<Figure size 432x288 with 1 Axes>"
            ],
            "image/png": "[encoded data removed]"
          },
          "metadata": {
            "needs_background": "light"
          }
        }
      ],
      "source": [
        "sns.histplot(x='count_item_sold', data=top1);\n",
        "plt.xlabel('Number of Items Sold Daily');\n",
        "plt.title('Distribution of Number of Items Sold Daily');"
      ]
    },
    {
      "cell_type": "code",
      "execution_count": null,
      "metadata": {
        "id": "f09OfBJXG3RG"
      },
      "outputs": [],
      "source": [
        "# aggregating the daily demand to weekly demand\n",
        "top1['date'] = pd.to_datetime(top1['date']) - pd.to_timedelta(7, unit='d')\n",
        "agg_week = top1.groupby([pd.Grouper(key='date', freq='W-SAT')])['count_item_sold'].sum().reset_index().sort_values('date')"
      ]
    },
    {
      "cell_type": "code",
      "execution_count": null,
      "metadata": {
        "colab": {
          "base_uri": "https://localhost:8080/"
        },
        "id": "HwRBcK7MG3RG",
        "outputId": "25088e3d-d1f6-4616-bcad-a234a5c4642c"
      },
      "outputs": [
        {
          "output_type": "execute_result",
          "data": {
            "text/plain": [
              "pandas.core.indexes.datetimes.DatetimeIndex"
            ]
          },
          "metadata": {},
          "execution_count": 12
        }
      ],
      "source": [
        "# set date as index\n",
        "agg_week = agg_week.set_index('date')\n",
        "type(agg_week.index)"
      ]
    },
    {
      "cell_type": "code",
      "execution_count": null,
      "metadata": {
        "colab": {
          "base_uri": "https://localhost:8080/",
          "height": 1000
        },
        "id": "9rWVAex1G3RG",
        "outputId": "520907ce-20c6-4c32-8bb2-f363cc0e229b"
      },
      "outputs": [
        {
          "output_type": "stream",
          "name": "stdout",
          "text": [
            "Shape of data (40, 1)\n"
          ]
        },
        {
          "output_type": "execute_result",
          "data": {
            "text/plain": [
              "            count_item_sold\n",
              "date                       \n",
              "2021-12-25              313\n",
              "2022-01-01             1309\n",
              "2022-01-08              767\n",
              "2022-01-15             1154\n",
              "2022-01-22             1153\n",
              "2022-01-29              757\n",
              "2022-02-05             2242\n",
              "2022-02-12             2195\n",
              "2022-02-19             2283\n",
              "2022-02-26             1707\n",
              "2022-03-05             1969\n",
              "2022-03-12             1735\n",
              "2022-03-19             1978\n",
              "2022-03-26             2422\n",
              "2022-04-02             1521\n",
              "2022-04-09             1462\n",
              "2022-04-16             1530\n",
              "2022-04-23             1272\n",
              "2022-04-30             1477\n",
              "2022-05-07             1295\n",
              "2022-05-14             1144\n",
              "2022-05-21             1120\n",
              "2022-05-28             1242\n",
              "2022-06-04              313\n",
              "2022-06-11                0\n",
              "2022-06-18              261\n",
              "2022-06-25             1086\n",
              "2022-07-02             1125\n",
              "2022-07-09              943\n",
              "2022-07-16              830\n",
              "2022-07-23              499\n",
              "2022-07-30             1046\n",
              "2022-08-06             1263\n",
              "2022-08-13             1279\n",
              "2022-08-20             1483\n",
              "2022-08-27             1416\n",
              "2022-09-03             1815\n",
              "2022-09-10             1635\n",
              "2022-09-17             1612\n",
              "2022-09-24              568"
            ],
            "text/html": [
              "\n",
              "  <div id=\"df-c58b7a1a-ecd4-4751-a445-ad00156888e1\">\n",
              "    <div class=\"colab-df-container\">\n",
              "      <div>\n",
              "<style scoped>\n",
              "    .dataframe tbody tr th:only-of-type {\n",
              "        vertical-align: middle;\n",
              "    }\n",
              "\n",
              "    .dataframe tbody tr th {\n",
              "        vertical-align: top;\n",
              "    }\n",
              "\n",
              "    .dataframe thead th {\n",
              "        text-align: right;\n",
              "    }\n",
              "</style>\n",
              "<table border=\"1\" class=\"dataframe\">\n",
              "  <thead>\n",
              "    <tr style=\"text-align: right;\">\n",
              "      <th></th>\n",
              "      <th>count_item_sold</th>\n",
              "    </tr>\n",
              "    <tr>\n",
              "      <th>date</th>\n",
              "      <th></th>\n",
              "    </tr>\n",
              "  </thead>\n",
              "  <tbody>\n",
              "    <tr>\n",
              "      <th>2021-12-25</th>\n",
              "      <td>313</td>\n",
              "    </tr>\n",
              "    <tr>\n",
              "      <th>2022-01-01</th>\n",
              "      <td>1309</td>\n",
              "    </tr>\n",
              "    <tr>\n",
              "      <th>2022-01-08</th>\n",
              "      <td>767</td>\n",
              "    </tr>\n",
              "    <tr>\n",
              "      <th>2022-01-15</th>\n",
              "      <td>1154</td>\n",
              "    </tr>\n",
              "    <tr>\n",
              "      <th>2022-01-22</th>\n",
              "      <td>1153</td>\n",
              "    </tr>\n",
              "    <tr>\n",
              "      <th>2022-01-29</th>\n",
              "      <td>757</td>\n",
              "    </tr>\n",
              "    <tr>\n",
              "      <th>2022-02-05</th>\n",
              "      <td>2242</td>\n",
              "    </tr>\n",
              "    <tr>\n",
              "      <th>2022-02-12</th>\n",
              "      <td>2195</td>\n",
              "    </tr>\n",
              "    <tr>\n",
              "      <th>2022-02-19</th>\n",
              "      <td>2283</td>\n",
              "    </tr>\n",
              "    <tr>\n",
              "      <th>2022-02-26</th>\n",
              "      <td>1707</td>\n",
              "    </tr>\n",
              "    <tr>\n",
              "      <th>2022-03-05</th>\n",
              "      <td>1969</td>\n",
              "    </tr>\n",
              "    <tr>\n",
              "      <th>2022-03-12</th>\n",
              "      <td>1735</td>\n",
              "    </tr>\n",
              "    <tr>\n",
              "      <th>2022-03-19</th>\n",
              "      <td>1978</td>\n",
              "    </tr>\n",
              "    <tr>\n",
              "      <th>2022-03-26</th>\n",
              "      <td>2422</td>\n",
              "    </tr>\n",
              "    <tr>\n",
              "      <th>2022-04-02</th>\n",
              "      <td>1521</td>\n",
              "    </tr>\n",
              "    <tr>\n",
              "      <th>2022-04-09</th>\n",
              "      <td>1462</td>\n",
              "    </tr>\n",
              "    <tr>\n",
              "      <th>2022-04-16</th>\n",
              "      <td>1530</td>\n",
              "    </tr>\n",
              "    <tr>\n",
              "      <th>2022-04-23</th>\n",
              "      <td>1272</td>\n",
              "    </tr>\n",
              "    <tr>\n",
              "      <th>2022-04-30</th>\n",
              "      <td>1477</td>\n",
              "    </tr>\n",
              "    <tr>\n",
              "      <th>2022-05-07</th>\n",
              "      <td>1295</td>\n",
              "    </tr>\n",
              "    <tr>\n",
              "      <th>2022-05-14</th>\n",
              "      <td>1144</td>\n",
              "    </tr>\n",
              "    <tr>\n",
              "      <th>2022-05-21</th>\n",
              "      <td>1120</td>\n",
              "    </tr>\n",
              "    <tr>\n",
              "      <th>2022-05-28</th>\n",
              "      <td>1242</td>\n",
              "    </tr>\n",
              "    <tr>\n",
              "      <th>2022-06-04</th>\n",
              "      <td>313</td>\n",
              "    </tr>\n",
              "    <tr>\n",
              "      <th>2022-06-11</th>\n",
              "      <td>0</td>\n",
              "    </tr>\n",
              "    <tr>\n",
              "      <th>2022-06-18</th>\n",
              "      <td>261</td>\n",
              "    </tr>\n",
              "    <tr>\n",
              "      <th>2022-06-25</th>\n",
              "      <td>1086</td>\n",
              "    </tr>\n",
              "    <tr>\n",
              "      <th>2022-07-02</th>\n",
              "      <td>1125</td>\n",
              "    </tr>\n",
              "    <tr>\n",
              "      <th>2022-07-09</th>\n",
              "      <td>943</td>\n",
              "    </tr>\n",
              "    <tr>\n",
              "      <th>2022-07-16</th>\n",
              "      <td>830</td>\n",
              "    </tr>\n",
              "    <tr>\n",
              "      <th>2022-07-23</th>\n",
              "      <td>499</td>\n",
              "    </tr>\n",
              "    <tr>\n",
              "      <th>2022-07-30</th>\n",
              "      <td>1046</td>\n",
              "    </tr>\n",
              "    <tr>\n",
              "      <th>2022-08-06</th>\n",
              "      <td>1263</td>\n",
              "    </tr>\n",
              "    <tr>\n",
              "      <th>2022-08-13</th>\n",
              "      <td>1279</td>\n",
              "    </tr>\n",
              "    <tr>\n",
              "      <th>2022-08-20</th>\n",
              "      <td>1483</td>\n",
              "    </tr>\n",
              "    <tr>\n",
              "      <th>2022-08-27</th>\n",
              "      <td>1416</td>\n",
              "    </tr>\n",
              "    <tr>\n",
              "      <th>2022-09-03</th>\n",
              "      <td>1815</td>\n",
              "    </tr>\n",
              "    <tr>\n",
              "      <th>2022-09-10</th>\n",
              "      <td>1635</td>\n",
              "    </tr>\n",
              "    <tr>\n",
              "      <th>2022-09-17</th>\n",
              "      <td>1612</td>\n",
              "    </tr>\n",
              "    <tr>\n",
              "      <th>2022-09-24</th>\n",
              "      <td>568</td>\n",
              "    </tr>\n",
              "  </tbody>\n",
              "</table>\n",
              "</div>\n",
              "      <button class=\"colab-df-convert\" onclick=\"convertToInteractive('df-c58b7a1a-ecd4-4751-a445-ad00156888e1')\"\n",
              "              title=\"Convert this dataframe to an interactive table.\"\n",
              "              style=\"display:none;\">\n",
              "        \n",
              "  <svg xmlns=\"http://www.w3.org/2000/svg\" height=\"24px\"viewBox=\"0 0 24 24\"\n",
              "       width=\"24px\">\n",
              "    <path d=\"M0 0h24v24H0V0z\" fill=\"none\"/>\n",
              "    <path d=\"M18.56 5.44l.94 2.06.94-2.06 2.06-.94-2.06-.94-.94-2.06-.94 2.06-2.06.94zm-11 1L8.5 8.5l.94-2.06 2.06-.94-2.06-.94L8.5 2.5l-.94 2.06-2.06.94zm10 10l.94 2.06.94-2.06 2.06-.94-2.06-.94-.94-2.06-.94 2.06-2.06.94z\"/><path d=\"M17.41 7.96l-1.37-1.37c-.4-.4-.92-.59-1.43-.59-.52 0-1.04.2-1.43.59L10.3 9.45l-7.72 7.72c-.78.78-.78 2.05 0 2.83L4 21.41c.39.39.9.59 1.41.59.51 0 1.02-.2 1.41-.59l7.78-7.78 2.81-2.81c.8-.78.8-2.07 0-2.86zM5.41 20L4 18.59l7.72-7.72 1.47 1.35L5.41 20z\"/>\n",
              "  </svg>\n",
              "      </button>\n",
              "      \n",
              "  <style>\n",
              "    .colab-df-container {\n",
              "      display:flex;\n",
              "      flex-wrap:wrap;\n",
              "      gap: 12px;\n",
              "    }\n",
              "\n",
              "    .colab-df-convert {\n",
              "      background-color: #E8F0FE;\n",
              "      border: none;\n",
              "      border-radius: 50%;\n",
              "      cursor: pointer;\n",
              "      display: none;\n",
              "      fill: #1967D2;\n",
              "      height: 32px;\n",
              "      padding: 0 0 0 0;\n",
              "      width: 32px;\n",
              "    }\n",
              "\n",
              "    .colab-df-convert:hover {\n",
              "      background-color: #E2EBFA;\n",
              "      box-shadow: 0px 1px 2px rgba(60, 64, 67, 0.3), 0px 1px 3px 1px rgba(60, 64, 67, 0.15);\n",
              "      fill: #174EA6;\n",
              "    }\n",
              "\n",
              "    [theme=dark] .colab-df-convert {\n",
              "      background-color: #3B4455;\n",
              "      fill: #D2E3FC;\n",
              "    }\n",
              "\n",
              "    [theme=dark] .colab-df-convert:hover {\n",
              "      background-color: #434B5C;\n",
              "      box-shadow: 0px 1px 3px 1px rgba(0, 0, 0, 0.15);\n",
              "      filter: drop-shadow(0px 1px 2px rgba(0, 0, 0, 0.3));\n",
              "      fill: #FFFFFF;\n",
              "    }\n",
              "  </style>\n",
              "\n",
              "      <script>\n",
              "        const buttonEl =\n",
              "          document.querySelector('#df-c58b7a1a-ecd4-4751-a445-ad00156888e1 button.colab-df-convert');\n",
              "        buttonEl.style.display =\n",
              "          google.colab.kernel.accessAllowed ? 'block' : 'none';\n",
              "\n",
              "        async function convertToInteractive(key) {\n",
              "          const element = document.querySelector('#df-c58b7a1a-ecd4-4751-a445-ad00156888e1');\n",
              "          const dataTable =\n",
              "            await google.colab.kernel.invokeFunction('convertToInteractive',\n",
              "                                                     [key], {});\n",
              "          if (!dataTable) return;\n",
              "\n",
              "          const docLinkHtml = 'Like what you see? Visit the ' +\n",
              "            '<a target=\"_blank\" href=https://colab.research.google.com/notebooks/data_table.ipynb>data table notebook</a>'\n",
              "            + ' to learn more about interactive tables.';\n",
              "          element.innerHTML = '';\n",
              "          dataTable['output_type'] = 'display_data';\n",
              "          await google.colab.output.renderOutput(dataTable, element);\n",
              "          const docLink = document.createElement('div');\n",
              "          docLink.innerHTML = docLinkHtml;\n",
              "          element.appendChild(docLink);\n",
              "        }\n",
              "      </script>\n",
              "    </div>\n",
              "  </div>\n",
              "  "
            ]
          },
          "metadata": {},
          "execution_count": 13
        }
      ],
      "source": [
        "print('Shape of data', agg_week.shape)\n",
        "agg_week"
      ]
    },
    {
      "cell_type": "code",
      "execution_count": null,
      "metadata": {
        "colab": {
          "base_uri": "https://localhost:8080/"
        },
        "id": "oyhm9XZkG3RH",
        "outputId": "2f4f112e-c296-4350-c15f-30d82bfc20b7"
      },
      "outputs": [
        {
          "output_type": "execute_result",
          "data": {
            "text/plain": [
              "1280.525"
            ]
          },
          "metadata": {},
          "execution_count": 14
        }
      ],
      "source": [
        "statistics.mean(agg_week['count_item_sold'])"
      ]
    },
    {
      "cell_type": "code",
      "execution_count": null,
      "metadata": {
        "colab": {
          "base_uri": "https://localhost:8080/",
          "height": 362
        },
        "id": "jjtma9Q8G3RH",
        "outputId": "cc41b50f-eca3-4504-f0aa-83d481ee6f6f"
      },
      "outputs": [
        {
          "output_type": "execute_result",
          "data": {
            "text/plain": [
              "<matplotlib.axes._subplots.AxesSubplot at 0x7f9d010a7ed0>"
            ]
          },
          "metadata": {},
          "execution_count": 15
        },
        {
          "output_type": "display_data",
          "data": {
            "text/plain": [
              "<Figure size 864x360 with 1 Axes>"
            ],
            "image/png": "[encoded data removed]"
          },
          "metadata": {
            "needs_background": "light"
          }
        }
      ],
      "source": [
        "agg_week.plot(figsize=(12,5))"
      ]
    },
    {
      "cell_type": "markdown",
      "metadata": {
        "id": "Lxt2-YpOG3RI"
      },
      "source": [
        "### Step 3: Stationarity Check"
      ]
    },
    {
      "cell_type": "code",
      "execution_count": null,
      "metadata": {
        "id": "uEmDxbpUG3RI"
      },
      "outputs": [],
      "source": [
        "# one of the ways to check stationarity\n",
        "# cannot run this since there are only 40 weeks of observations (must have 2 complete cycles: 104 observations)\n",
        "\n",
        "# decomposition = sm.tsa.seasonal_decompose(agg_week, model='additive')\n",
        "# fig = decomposition.plot()\n",
        "# plt.show()"
      ]
    },
    {
      "cell_type": "code",
      "execution_count": null,
      "metadata": {
        "id": "dht6nFVvG3RJ"
      },
      "outputs": [],
      "source": [
        "#Augmented Dickey-Fuller (ADCF) Unit Root Test\n",
        "# can be used to test for a unit root in a univariate process in the presence of serial correlation\n",
        "# a test which will turn certain parameters which you can use to judge if the dataset is stationary or not.\n",
        "\n",
        "from statsmodels.tsa.stattools import adfuller\n",
        "\n",
        "def ad_test(dataset):\n",
        "    print('Results of Dickey-Fuller Test:')\n",
        "    dftest = adfuller(agg_week['count_item_sold'], autolag='AIC') \n",
        "    dfoutput = pd.Series(dftest[0:4], index=['Test Statistic (ADF)', 'p-value', '#Lags Used', 'Number of Observations Used'])\n",
        "    for key, value in dftest[4].items():\n",
        "        dfoutput['Critical Vlaue (%s)'%key] = value\n",
        "    print(dfoutput)\n",
        "    \n",
        "# Akaike Information Criterion (AIC) measures\n",
        "# how well a model fits the data it was generated from\n",
        "# AIC gives you the information about what you watned in time series - the exact value and the actual value\n",
        "# and analyzes from the difference between them\n",
        "\n",
        "# Num of Observation Used for ADF Regression and Critical Values Calculation\n",
        "\n",
        "# Not going in depth, we ran this just to interpret the stationarity"
      ]
    },
    {
      "cell_type": "code",
      "execution_count": null,
      "metadata": {
        "colab": {
          "base_uri": "https://localhost:8080/"
        },
        "id": "bDPvVLo1G3RJ",
        "outputId": "e41cd3a9-238f-485b-9147-3643101653e4"
      },
      "outputs": [
        {
          "output_type": "stream",
          "name": "stdout",
          "text": [
            "Results of Dickey-Fuller Test:\n",
            "Test Statistic (ADF)           -3.303846\n",
            "p-value                         0.014707\n",
            "#Lags Used                     10.000000\n",
            "Number of Observations Used    29.000000\n",
            "Critical Vlaue (1%)            -3.679060\n",
            "Critical Vlaue (5%)            -2.967882\n",
            "Critical Vlaue (10%)           -2.623158\n",
            "dtype: float64\n"
          ]
        }
      ],
      "source": [
        "ad_test(agg_week)"
      ]
    },
    {
      "cell_type": "markdown",
      "metadata": {
        "id": "I828vvwBG3RK"
      },
      "source": [
        "The p-value needs to be as small as possible (less than 0.05). In this case, the dataset is stationary (p-value 0.0147), and we can proceed to the next step."
      ]
    },
    {
      "cell_type": "markdown",
      "metadata": {
        "id": "C3FRXPy-G3RK"
      },
      "source": [
        "## Figure out order for ARIMA model\n",
        "\n",
        "### Step 4: Hyperparameters of ARIMA Model - P d Q"
      ]
    },
    {
      "cell_type": "markdown",
      "metadata": {
        "id": "JlCZSZeDG3RK"
      },
      "source": [
        "**ARIMA** model is devided into 3 parts\n",
        "- AR (P): Autoregressive lag (use the previous values to make a future prediction)\n",
        "- I (d): Integration (differencing)\n",
        "- MA (Q): Moving average (use the past errors for a future prediction)\n",
        "\n",
        "If your data is not stationary, meaning if it has increasing or decreasing trend, you need to difference it with the previous value to eliminate that trend.\n",
        "\n",
        "There are three ways to get ARIMA Hyperparameters\n",
        "1. method ACF PACF plots (need a lot of knowledge - too complicated)\n",
        "2. auto_arima\n",
        "3. for loop"
      ]
    },
    {
      "cell_type": "markdown",
      "metadata": {
        "id": "fR5mRAS3G3RK"
      },
      "source": [
        "#### 1. Auto_ARIMA"
      ]
    },
    {
      "cell_type": "code",
      "execution_count": null,
      "metadata": {
        "colab": {
          "base_uri": "https://localhost:8080/",
          "height": 322
        },
        "id": "OEQa_nF6G3RL",
        "outputId": "cbec671b-ec5a-43f1-df6f-cf27f033b454"
      },
      "outputs": [
        {
          "output_type": "error",
          "ename": "ModuleNotFoundError",
          "evalue": "ignored",
          "traceback": [
            "\u001b[0;31m---------------------------------------------------------------------------\u001b[0m",
            "\u001b[0;31mModuleNotFoundError\u001b[0m                       Traceback (most recent call last)",
            "\u001b[0;32m<ipython-input-19-ae84a0ce419b>\u001b[0m in \u001b[0;36m<module>\u001b[0;34m\u001b[0m\n\u001b[0;32m----> 1\u001b[0;31m \u001b[0;32mimport\u001b[0m \u001b[0mpmdarima\u001b[0m\u001b[0;34m\u001b[0m\u001b[0;34m\u001b[0m\u001b[0m\n\u001b[0m\u001b[1;32m      2\u001b[0m \u001b[0;32mfrom\u001b[0m \u001b[0mpmdarima\u001b[0m \u001b[0;32mimport\u001b[0m \u001b[0mauto_arima\u001b[0m\u001b[0;34m\u001b[0m\u001b[0;34m\u001b[0m\u001b[0m\n",
            "\u001b[0;31mModuleNotFoundError\u001b[0m: No module named 'pmdarima'",
            "",
            "\u001b[0;31m---------------------------------------------------------------------------\u001b[0;32m\nNOTE: If your import is failing due to a missing package, you can\nmanually install dependencies using either !pip or !apt.\n\nTo view examples of installing some common dependencies, click the\n\"Open Examples\" button below.\n\u001b[0;31m---------------------------------------------------------------------------\u001b[0m\n"
          ],
          "errorDetails": {
            "actions": [
              {
                "action": "open_url",
                "actionText": "Open Examples",
                "url": "/notebooks/snippets/importing_libraries.ipynb"
              }
            ]
          }
        }
      ],
      "source": [
        "import pmdarima\n",
        "from pmdarima import auto_arima"
      ]
    },
    {
      "cell_type": "code",
      "execution_count": null,
      "metadata": {
        "id": "BIO4A8pZG3RL"
      },
      "outputs": [],
      "source": [
        "stepwise_fit = auto_arima(agg_week, trace=True,\n",
        "                          suppress_warnings=True)\n",
        "stepwise_fit.summary()\n",
        "\n",
        "# auto_arima is going to try different combinations of demand, and it is going to assign a score (AIC) for every model.\n",
        "# the goal is to minimize the AIC\n",
        "\n",
        "# SARIMAX: ARIMA model with seasonality\n",
        "# ARIMA(1,0,0)(0,0,0) --> (0,0,0) shows there is no seasonality"
      ]
    },
    {
      "cell_type": "markdown",
      "metadata": {
        "id": "BQGlhH81G3RL"
      },
      "source": [
        "#### 2. for loop\n",
        "**!!!!!!Run all of the codes with the Auto_ARIMA order (hyperparameters), and then re-run everything with this for loop hyperparameters again!!!!!!**"
      ]
    },
    {
      "cell_type": "code",
      "execution_count": null,
      "metadata": {
        "id": "qsF4AKgBG3RL"
      },
      "outputs": [],
      "source": [
        "import itertools"
      ]
    },
    {
      "cell_type": "code",
      "execution_count": null,
      "metadata": {
        "id": "BME9vvwuG3RM"
      },
      "outputs": [],
      "source": [
        "p=range(0,8)\n",
        "q=range(0,8)\n",
        "d=range(0,2)"
      ]
    },
    {
      "cell_type": "code",
      "execution_count": null,
      "metadata": {
        "id": "QOJiP0dUG3RP"
      },
      "outputs": [],
      "source": [
        "pdq_combination=list(itertools.product(p,d,q))"
      ]
    },
    {
      "cell_type": "code",
      "execution_count": null,
      "metadata": {
        "colab": {
          "base_uri": "https://localhost:8080/"
        },
        "id": "HgYjdy56G3RP",
        "outputId": "207c3e92-a45d-4249-e2e5-3a0a17ef9b8c"
      },
      "outputs": [
        {
          "output_type": "execute_result",
          "data": {
            "text/plain": [
              "128"
            ]
          },
          "metadata": {},
          "execution_count": 23
        }
      ],
      "source": [
        "len(pdq_combination)"
      ]
    },
    {
      "cell_type": "code",
      "execution_count": null,
      "metadata": {
        "id": "rWoCPNS0G3RP"
      },
      "outputs": [],
      "source": [
        "rmse=[]\n",
        "order1=[]"
      ]
    },
    {
      "cell_type": "code",
      "execution_count": null,
      "metadata": {
        "id": "NELcGcPSG3RQ"
      },
      "outputs": [],
      "source": [
        "for pdq in pdq_combination:\n",
        "    try:\n",
        "        model=ARIMA(train,order=pdq).fit()\n",
        "        pred=model.predict(start=len(train),end=(len(agg_week)-1))\n",
        "        error=sqrt(mean_squared_error(test,pred))\n",
        "        order1.append(pdq)\n",
        "        rmse.append(error)\n",
        "        \n",
        "    except:\n",
        "        continue"
      ]
    },
    {
      "cell_type": "code",
      "execution_count": null,
      "metadata": {
        "id": "1vUCLUzRG3RQ"
      },
      "outputs": [],
      "source": [
        "results=pd.DataFrame(index=order1, data=rmse, columns=['RMSE'])"
      ]
    },
    {
      "cell_type": "code",
      "execution_count": null,
      "metadata": {
        "colab": {
          "base_uri": "https://localhost:8080/"
        },
        "id": "ySI0ulpzG3RQ",
        "outputId": "e74b158e-1203-443a-85a7-5756e3ca80eb"
      },
      "outputs": [
        {
          "output_type": "execute_result",
          "data": {
            "text/plain": [
              "pandas.core.frame.DataFrame"
            ]
          },
          "metadata": {},
          "execution_count": 27
        }
      ],
      "source": [
        "type(results)"
      ]
    },
    {
      "cell_type": "code",
      "execution_count": null,
      "metadata": {
        "colab": {
          "base_uri": "https://localhost:8080/",
          "height": 49
        },
        "id": "qPd1JHJ4G3RQ",
        "outputId": "1d9fcb93-5f10-4530-ece2-35387efd1f7a"
      },
      "outputs": [
        {
          "output_type": "execute_result",
          "data": {
            "text/plain": [
              "Empty DataFrame\n",
              "Columns: [RMSE]\n",
              "Index: []"
            ],
            "text/html": [
              "\n",
              "  <div id=\"df-50d42927-4b99-4525-adb7-f1e4c28b2ab9\">\n",
              "    <div class=\"colab-df-container\">\n",
              "      <div>\n",
              "<style scoped>\n",
              "    .dataframe tbody tr th:only-of-type {\n",
              "        vertical-align: middle;\n",
              "    }\n",
              "\n",
              "    .dataframe tbody tr th {\n",
              "        vertical-align: top;\n",
              "    }\n",
              "\n",
              "    .dataframe thead th {\n",
              "        text-align: right;\n",
              "    }\n",
              "</style>\n",
              "<table border=\"1\" class=\"dataframe\">\n",
              "  <thead>\n",
              "    <tr style=\"text-align: right;\">\n",
              "      <th></th>\n",
              "      <th>RMSE</th>\n",
              "    </tr>\n",
              "  </thead>\n",
              "  <tbody>\n",
              "  </tbody>\n",
              "</table>\n",
              "</div>\n",
              "      <button class=\"colab-df-convert\" onclick=\"convertToInteractive('df-50d42927-4b99-4525-adb7-f1e4c28b2ab9')\"\n",
              "              title=\"Convert this dataframe to an interactive table.\"\n",
              "              style=\"display:none;\">\n",
              "        \n",
              "  <svg xmlns=\"http://www.w3.org/2000/svg\" height=\"24px\"viewBox=\"0 0 24 24\"\n",
              "       width=\"24px\">\n",
              "    <path d=\"M0 0h24v24H0V0z\" fill=\"none\"/>\n",
              "    <path d=\"M18.56 5.44l.94 2.06.94-2.06 2.06-.94-2.06-.94-.94-2.06-.94 2.06-2.06.94zm-11 1L8.5 8.5l.94-2.06 2.06-.94-2.06-.94L8.5 2.5l-.94 2.06-2.06.94zm10 10l.94 2.06.94-2.06 2.06-.94-2.06-.94-.94-2.06-.94 2.06-2.06.94z\"/><path d=\"M17.41 7.96l-1.37-1.37c-.4-.4-.92-.59-1.43-.59-.52 0-1.04.2-1.43.59L10.3 9.45l-7.72 7.72c-.78.78-.78 2.05 0 2.83L4 21.41c.39.39.9.59 1.41.59.51 0 1.02-.2 1.41-.59l7.78-7.78 2.81-2.81c.8-.78.8-2.07 0-2.86zM5.41 20L4 18.59l7.72-7.72 1.47 1.35L5.41 20z\"/>\n",
              "  </svg>\n",
              "      </button>\n",
              "      \n",
              "  <style>\n",
              "    .colab-df-container {\n",
              "      display:flex;\n",
              "      flex-wrap:wrap;\n",
              "      gap: 12px;\n",
              "    }\n",
              "\n",
              "    .colab-df-convert {\n",
              "      background-color: #E8F0FE;\n",
              "      border: none;\n",
              "      border-radius: 50%;\n",
              "      cursor: pointer;\n",
              "      display: none;\n",
              "      fill: #1967D2;\n",
              "      height: 32px;\n",
              "      padding: 0 0 0 0;\n",
              "      width: 32px;\n",
              "    }\n",
              "\n",
              "    .colab-df-convert:hover {\n",
              "      background-color: #E2EBFA;\n",
              "      box-shadow: 0px 1px 2px rgba(60, 64, 67, 0.3), 0px 1px 3px 1px rgba(60, 64, 67, 0.15);\n",
              "      fill: #174EA6;\n",
              "    }\n",
              "\n",
              "    [theme=dark] .colab-df-convert {\n",
              "      background-color: #3B4455;\n",
              "      fill: #D2E3FC;\n",
              "    }\n",
              "\n",
              "    [theme=dark] .colab-df-convert:hover {\n",
              "      background-color: #434B5C;\n",
              "      box-shadow: 0px 1px 3px 1px rgba(0, 0, 0, 0.15);\n",
              "      filter: drop-shadow(0px 1px 2px rgba(0, 0, 0, 0.3));\n",
              "      fill: #FFFFFF;\n",
              "    }\n",
              "  </style>\n",
              "\n",
              "      <script>\n",
              "        const buttonEl =\n",
              "          document.querySelector('#df-50d42927-4b99-4525-adb7-f1e4c28b2ab9 button.colab-df-convert');\n",
              "        buttonEl.style.display =\n",
              "          google.colab.kernel.accessAllowed ? 'block' : 'none';\n",
              "\n",
              "        async function convertToInteractive(key) {\n",
              "          const element = document.querySelector('#df-50d42927-4b99-4525-adb7-f1e4c28b2ab9');\n",
              "          const dataTable =\n",
              "            await google.colab.kernel.invokeFunction('convertToInteractive',\n",
              "                                                     [key], {});\n",
              "          if (!dataTable) return;\n",
              "\n",
              "          const docLinkHtml = 'Like what you see? Visit the ' +\n",
              "            '<a target=\"_blank\" href=https://colab.research.google.com/notebooks/data_table.ipynb>data table notebook</a>'\n",
              "            + ' to learn more about interactive tables.';\n",
              "          element.innerHTML = '';\n",
              "          dataTable['output_type'] = 'display_data';\n",
              "          await google.colab.output.renderOutput(dataTable, element);\n",
              "          const docLink = document.createElement('div');\n",
              "          docLink.innerHTML = docLinkHtml;\n",
              "          element.appendChild(docLink);\n",
              "        }\n",
              "      </script>\n",
              "    </div>\n",
              "  </div>\n",
              "  "
            ]
          },
          "metadata": {},
          "execution_count": 28
        }
      ],
      "source": [
        "# results.to_csv('ARIMA_result.csv')\n",
        "results.sort_values(['RMSE'], ascending=[True])"
      ]
    },
    {
      "cell_type": "markdown",
      "metadata": {
        "id": "vxtaS338G3RR"
      },
      "source": [
        "### Step 5: Split Data into Training and Testing"
      ]
    },
    {
      "cell_type": "code",
      "execution_count": null,
      "metadata": {
        "colab": {
          "base_uri": "https://localhost:8080/"
        },
        "id": "7367Z4u7G3RR",
        "outputId": "46915126-366a-4fab-da87-48bdfe252596"
      },
      "outputs": [
        {
          "output_type": "stream",
          "name": "stdout",
          "text": [
            "(40, 1)\n",
            "(30, 1) (10, 1)\n"
          ]
        }
      ],
      "source": [
        "print(agg_week.shape)\n",
        "train=agg_week.iloc[:30]\n",
        "test=agg_week.iloc[30:]\n",
        "print(train.shape,test.shape)"
      ]
    },
    {
      "cell_type": "markdown",
      "metadata": {
        "id": "HSS9QI28G3RR"
      },
      "source": [
        "We are going to build a model based on our training data and predict the test portion of it (then the test portion has the actual data and the predicted data so that we can perform the model evaluation to see how good our model is).\n",
        "\n",
        "After that, we are going to forecast our unseen future, which is our primary goal based on the entire dataset - and then we will use that model to predict the future demand."
      ]
    },
    {
      "cell_type": "markdown",
      "metadata": {
        "id": "nxkel7_DG3RR"
      },
      "source": [
        "### Step 6: Train the Model (build ARIMA model)"
      ]
    },
    {
      "cell_type": "code",
      "execution_count": null,
      "metadata": {
        "id": "GU52L8MZG3RS"
      },
      "outputs": [],
      "source": [
        "from statsmodels.tsa.arima.model import ARIMA"
      ]
    },
    {
      "cell_type": "code",
      "execution_count": null,
      "metadata": {
        "id": "rFzYGp7fG3RS"
      },
      "outputs": [],
      "source": [
        "import statsmodels.api as sm\n",
        "import warnings\n",
        "warnings.filterwarnings(\"ignore\")"
      ]
    },
    {
      "cell_type": "code",
      "execution_count": null,
      "metadata": {
        "colab": {
          "base_uri": "https://localhost:8080/",
          "height": 576
        },
        "id": "IJ2fID_sG3RS",
        "outputId": "7ab3bd6b-d290-413e-d358-c9eb2367f432"
      },
      "outputs": [
        {
          "output_type": "execute_result",
          "data": {
            "text/plain": [
              "<class 'statsmodels.iolib.summary.Summary'>\n",
              "\"\"\"\n",
              "                               SARIMAX Results                                \n",
              "==============================================================================\n",
              "Dep. Variable:        count_item_sold   No. Observations:                   30\n",
              "Model:                 ARIMA(4, 0, 3)   Log Likelihood                -223.763\n",
              "Date:                Wed, 09 Nov 2022   AIC                            465.525\n",
              "Time:                        02:25:35   BIC                            478.136\n",
              "Sample:                    12-25-2021   HQIC                           469.559\n",
              "                         - 07-16-2022                                         \n",
              "Covariance Type:                  opg                                         \n",
              "==============================================================================\n",
              "                 coef    std err          z      P>|z|      [0.025      0.975]\n",
              "------------------------------------------------------------------------------\n",
              "const       1285.1622    165.619      7.760      0.000     960.555    1609.769\n",
              "ar.L1         -0.1029      0.172     -0.600      0.549      -0.439       0.233\n",
              "ar.L2          1.3482      0.153      8.834      0.000       1.049       1.647\n",
              "ar.L3          0.2987      0.157      1.905      0.057      -0.009       0.606\n",
              "ar.L4         -0.7141      0.195     -3.669      0.000      -1.096      -0.333\n",
              "ma.L1          0.9002   8213.918      0.000      1.000   -1.61e+04    1.61e+04\n",
              "ma.L2         -0.9002   8213.718     -0.000      1.000   -1.61e+04    1.61e+04\n",
              "ma.L3         -1.0000      0.418     -2.391      0.017      -1.820      -0.180\n",
              "sigma2      1.428e+05      0.167   8.58e+05      0.000    1.43e+05    1.43e+05\n",
              "===================================================================================\n",
              "Ljung-Box (L1) (Q):                   0.30   Jarque-Bera (JB):                 0.72\n",
              "Prob(Q):                              0.58   Prob(JB):                         0.70\n",
              "Heteroskedasticity (H):               0.61   Skew:                             0.22\n",
              "Prob(H) (two-sided):                  0.45   Kurtosis:                         2.38\n",
              "===================================================================================\n",
              "\n",
              "Warnings:\n",
              "[1] Covariance matrix calculated using the outer product of gradients (complex-step).\n",
              "[2] Covariance matrix is singular or near-singular, with condition number 2.34e+26. Standard errors may be unstable.\n",
              "\"\"\""
            ],
            "text/html": [
              "<table class=\"simpletable\">\n",
              "<caption>SARIMAX Results</caption>\n",
              "<tr>\n",
              "  <th>Dep. Variable:</th>    <td>count_item_sold</td> <th>  No. Observations:  </th>    <td>30</td>   \n",
              "</tr>\n",
              "<tr>\n",
              "  <th>Model:</th>            <td>ARIMA(4, 0, 3)</td>  <th>  Log Likelihood     </th> <td>-223.763</td>\n",
              "</tr>\n",
              "<tr>\n",
              "  <th>Date:</th>            <td>Wed, 09 Nov 2022</td> <th>  AIC                </th>  <td>465.525</td>\n",
              "</tr>\n",
              "<tr>\n",
              "  <th>Time:</th>                <td>02:25:35</td>     <th>  BIC                </th>  <td>478.136</td>\n",
              "</tr>\n",
              "<tr>\n",
              "  <th>Sample:</th>             <td>12-25-2021</td>    <th>  HQIC               </th>  <td>469.559</td>\n",
              "</tr>\n",
              "<tr>\n",
              "  <th></th>                   <td>- 07-16-2022</td>   <th>                     </th>     <td> </td>   \n",
              "</tr>\n",
              "<tr>\n",
              "  <th>Covariance Type:</th>        <td>opg</td>       <th>                     </th>     <td> </td>   \n",
              "</tr>\n",
              "</table>\n",
              "<table class=\"simpletable\">\n",
              "<tr>\n",
              "     <td></td>       <th>coef</th>     <th>std err</th>      <th>z</th>      <th>P>|z|</th>  <th>[0.025</th>    <th>0.975]</th>  \n",
              "</tr>\n",
              "<tr>\n",
              "  <th>const</th>  <td> 1285.1622</td> <td>  165.619</td> <td>    7.760</td> <td> 0.000</td> <td>  960.555</td> <td> 1609.769</td>\n",
              "</tr>\n",
              "<tr>\n",
              "  <th>ar.L1</th>  <td>   -0.1029</td> <td>    0.172</td> <td>   -0.600</td> <td> 0.549</td> <td>   -0.439</td> <td>    0.233</td>\n",
              "</tr>\n",
              "<tr>\n",
              "  <th>ar.L2</th>  <td>    1.3482</td> <td>    0.153</td> <td>    8.834</td> <td> 0.000</td> <td>    1.049</td> <td>    1.647</td>\n",
              "</tr>\n",
              "<tr>\n",
              "  <th>ar.L3</th>  <td>    0.2987</td> <td>    0.157</td> <td>    1.905</td> <td> 0.057</td> <td>   -0.009</td> <td>    0.606</td>\n",
              "</tr>\n",
              "<tr>\n",
              "  <th>ar.L4</th>  <td>   -0.7141</td> <td>    0.195</td> <td>   -3.669</td> <td> 0.000</td> <td>   -1.096</td> <td>   -0.333</td>\n",
              "</tr>\n",
              "<tr>\n",
              "  <th>ma.L1</th>  <td>    0.9002</td> <td> 8213.918</td> <td>    0.000</td> <td> 1.000</td> <td>-1.61e+04</td> <td> 1.61e+04</td>\n",
              "</tr>\n",
              "<tr>\n",
              "  <th>ma.L2</th>  <td>   -0.9002</td> <td> 8213.718</td> <td>   -0.000</td> <td> 1.000</td> <td>-1.61e+04</td> <td> 1.61e+04</td>\n",
              "</tr>\n",
              "<tr>\n",
              "  <th>ma.L3</th>  <td>   -1.0000</td> <td>    0.418</td> <td>   -2.391</td> <td> 0.017</td> <td>   -1.820</td> <td>   -0.180</td>\n",
              "</tr>\n",
              "<tr>\n",
              "  <th>sigma2</th> <td> 1.428e+05</td> <td>    0.167</td> <td> 8.58e+05</td> <td> 0.000</td> <td> 1.43e+05</td> <td> 1.43e+05</td>\n",
              "</tr>\n",
              "</table>\n",
              "<table class=\"simpletable\">\n",
              "<tr>\n",
              "  <th>Ljung-Box (L1) (Q):</th>     <td>0.30</td> <th>  Jarque-Bera (JB):  </th> <td>0.72</td>\n",
              "</tr>\n",
              "<tr>\n",
              "  <th>Prob(Q):</th>                <td>0.58</td> <th>  Prob(JB):          </th> <td>0.70</td>\n",
              "</tr>\n",
              "<tr>\n",
              "  <th>Heteroskedasticity (H):</th> <td>0.61</td> <th>  Skew:              </th> <td>0.22</td>\n",
              "</tr>\n",
              "<tr>\n",
              "  <th>Prob(H) (two-sided):</th>    <td>0.45</td> <th>  Kurtosis:          </th> <td>2.38</td>\n",
              "</tr>\n",
              "</table><br/><br/>Warnings:<br/>[1] Covariance matrix calculated using the outer product of gradients (complex-step).<br/>[2] Covariance matrix is singular or near-singular, with condition number 2.34e+26. Standard errors may be unstable."
            ]
          },
          "metadata": {},
          "execution_count": 32
        }
      ],
      "source": [
        "model = (sm.tsa.arima.ARIMA(train, order=(4,0,3))).fit()\n",
        "model.summary()"
      ]
    },
    {
      "cell_type": "markdown",
      "metadata": {
        "id": "L2CMyiQtG3RS"
      },
      "source": [
        "### Step 7: Make Predictions on Test Set"
      ]
    },
    {
      "cell_type": "code",
      "execution_count": null,
      "metadata": {
        "colab": {
          "base_uri": "https://localhost:8080/"
        },
        "id": "kbB7GS9_G3RS",
        "outputId": "8e78fab8-cce0-4004-93a8-8c2bf2168da3"
      },
      "outputs": [
        {
          "output_type": "execute_result",
          "data": {
            "text/plain": [
              "2022-07-23     829.292453\n",
              "2022-07-30    1228.994145\n",
              "2022-08-06    1134.599257\n",
              "2022-08-13    1413.752806\n",
              "2022-08-20    1377.680153\n",
              "2022-08-27    1444.145817\n",
              "2022-09-03    1539.470963\n",
              "2022-09-10    1409.167322\n",
              "2022-09-17    1596.706420\n",
              "2022-09-24    1382.750203\n",
              "Freq: W-SAT, Name: predicted_mean, dtype: float64"
            ]
          },
          "metadata": {},
          "execution_count": 33
        }
      ],
      "source": [
        "pred = model.predict(start=len(train), end=(len(agg_week)-1), typ='levels')\n",
        "pred\n",
        "#result.forecast(steps=10)"
      ]
    },
    {
      "cell_type": "code",
      "execution_count": null,
      "metadata": {
        "colab": {
          "base_uri": "https://localhost:8080/"
        },
        "id": "8Mlw_ZRAG3RT",
        "outputId": "fbc4c893-16d4-4c0c-c9a4-3e71c481359f"
      },
      "outputs": [
        {
          "output_type": "execute_result",
          "data": {
            "text/plain": [
              "(30, 39)"
            ]
          },
          "metadata": {},
          "execution_count": 34
        }
      ],
      "source": [
        "len(train), len(agg_week)-1"
      ]
    },
    {
      "cell_type": "markdown",
      "metadata": {
        "id": "bU38RZqnG3RT"
      },
      "source": [
        "### Step 8: Model Evaluation"
      ]
    },
    {
      "cell_type": "code",
      "execution_count": null,
      "metadata": {
        "id": "lqsX3NzxG3RT"
      },
      "outputs": [],
      "source": [
        "from sklearn.metrics import mean_squared_error\n",
        "from math import sqrt"
      ]
    },
    {
      "cell_type": "markdown",
      "metadata": {
        "id": "9Kj94qj9G3RT"
      },
      "source": [
        "- std: measures the spread of data around the mean\n",
        "- rmse: measures the distance between some values and prediction for those values (the error of prediction)\n",
        "\n",
        "RMSE (Root Mean Squared Error): the standard deviation of the residuals (prediction errors)\n",
        "the square root of the average of squared differences between prediction and actual observation\n",
        "How far our predicted value is from the true value\n",
        "\n",
        "The lower the RMSE, the better a given model is able to “fit” a dataset"
      ]
    },
    {
      "cell_type": "code",
      "execution_count": null,
      "metadata": {
        "colab": {
          "base_uri": "https://localhost:8080/"
        },
        "id": "dtgWV605G3RU",
        "outputId": "2113a782-ffd7-4422-be0f-a93742514543"
      },
      "outputs": [
        {
          "output_type": "execute_result",
          "data": {
            "text/plain": [
              "313.0619626449551"
            ]
          },
          "metadata": {},
          "execution_count": 36
        }
      ],
      "source": [
        "error=sqrt(mean_squared_error(test,pred))\n",
        "error"
      ]
    },
    {
      "cell_type": "code",
      "execution_count": null,
      "metadata": {
        "colab": {
          "base_uri": "https://localhost:8080/"
        },
        "id": "r2rNzCmLG3RU",
        "outputId": "c2395f94-e026-468f-a352-3885d962aadc"
      },
      "outputs": [
        {
          "output_type": "execute_result",
          "data": {
            "text/plain": [
              "(count_item_sold    1261.6\n",
              " dtype: float64, count_item_sold    441.052327\n",
              " dtype: float64)"
            ]
          },
          "metadata": {},
          "execution_count": 37
        }
      ],
      "source": [
        "test.mean(), np.sqrt(test.var()) #std of the test dataset"
      ]
    },
    {
      "cell_type": "markdown",
      "metadata": {
        "id": "Djc17pfuG3RV"
      },
      "source": [
        "When RMSE is lesser than the standard deviation -> This means that the regression model is better than the null model."
      ]
    },
    {
      "cell_type": "code",
      "execution_count": null,
      "metadata": {
        "id": "e3qpitsKG3RV"
      },
      "outputs": [],
      "source": [
        "# train"
      ]
    },
    {
      "cell_type": "code",
      "execution_count": null,
      "metadata": {
        "id": "_E2UUZDVG3RV"
      },
      "outputs": [],
      "source": [
        "# test"
      ]
    },
    {
      "cell_type": "code",
      "execution_count": null,
      "metadata": {
        "id": "BFYQ6yIfG3RV"
      },
      "outputs": [],
      "source": [
        "# pred"
      ]
    },
    {
      "cell_type": "code",
      "execution_count": null,
      "metadata": {
        "colab": {
          "base_uri": "https://localhost:8080/",
          "height": 331
        },
        "id": "ZO6Ierh6G3RV",
        "outputId": "a4b694b7-197e-45ae-9425-486b267a62f7"
      },
      "outputs": [
        {
          "output_type": "execute_result",
          "data": {
            "text/plain": [
              "<matplotlib.axes._subplots.AxesSubplot at 0x7f9cf34ea650>"
            ]
          },
          "metadata": {},
          "execution_count": 41
        },
        {
          "output_type": "display_data",
          "data": {
            "text/plain": [
              "<Figure size 432x288 with 1 Axes>"
            ],
            "image/png": "[encoded data removed]"
          },
          "metadata": {
            "needs_background": "light"
          }
        }
      ],
      "source": [
        "pred.plot(legend=True)\n",
        "test['count_item_sold'].plot(legend=True)"
      ]
    },
    {
      "cell_type": "code",
      "execution_count": null,
      "metadata": {
        "id": "JDOkRlHlG3RW"
      },
      "outputs": [],
      "source": [
        "# train.plot(legend=True, label='Train', figsize=(12,5))\n",
        "# test.plot(legend=True, label='Test')\n",
        "# pred.plot(legend=True, label='predictionARIMA')"
      ]
    },
    {
      "cell_type": "markdown",
      "metadata": {
        "id": "Md1bG829G3RW"
      },
      "source": [
        "### Step 9: Predict Future Data (rebuild the model based on the entire dataset)"
      ]
    },
    {
      "cell_type": "code",
      "execution_count": null,
      "metadata": {
        "id": "YPGvPZCWG3RW"
      },
      "outputs": [],
      "source": [
        "final_model = (sm.tsa.arima.ARIMA(agg_week, order=(4,0,3))).fit()"
      ]
    },
    {
      "cell_type": "code",
      "execution_count": null,
      "metadata": {
        "id": "oPGVbOGdG3RW"
      },
      "outputs": [],
      "source": [
        "# print the last five values from my dataset to see what date my dataset ends\n",
        "# agg_week.tail()"
      ]
    },
    {
      "cell_type": "code",
      "execution_count": null,
      "metadata": {
        "id": "6_Z1W2rhG3RW"
      },
      "outputs": [],
      "source": [
        "# prediction for the future 3 months\n",
        "prediction=final_model.predict(len(agg_week),len(agg_week)+12, typ='levels').rename('ARIMA Predictions')"
      ]
    },
    {
      "cell_type": "code",
      "execution_count": null,
      "metadata": {
        "colab": {
          "base_uri": "https://localhost:8080/",
          "height": 362
        },
        "id": "IyEgo4MeG3RX",
        "outputId": "06544dd8-20ec-429d-d32c-2b0f93db8640"
      },
      "outputs": [
        {
          "output_type": "execute_result",
          "data": {
            "text/plain": [
              "<matplotlib.axes._subplots.AxesSubplot at 0x7f9cf3426390>"
            ]
          },
          "metadata": {},
          "execution_count": 46
        },
        {
          "output_type": "display_data",
          "data": {
            "text/plain": [
              "<Figure size 864x360 with 1 Axes>"
            ],
            "image/png": "[encoded data removed]"
          },
          "metadata": {
            "needs_background": "light"
          }
        }
      ],
      "source": [
        "agg_week.plot(legend=True, figsize=(12,5))\n",
        "prediction.plot(legend=True, label='prediction')\n",
        "\n",
        "# prediction.plot()"
      ]
    },
    {
      "cell_type": "code",
      "execution_count": null,
      "metadata": {
        "colab": {
          "base_uri": "https://localhost:8080/"
        },
        "id": "c-k2sLkcG3RY",
        "outputId": "2cd4973a-c3cd-4f73-ac11-a6a46e9fc789"
      },
      "outputs": [
        {
          "output_type": "execute_result",
          "data": {
            "text/plain": [
              "2022-10-01     615.483589\n",
              "2022-10-08     794.781606\n",
              "2022-10-15    1006.740924\n",
              "2022-10-22    1293.158054\n",
              "2022-10-29    1085.639141\n",
              "2022-11-05    1251.199675\n",
              "2022-11-12    1244.654208\n",
              "2022-11-19    1305.753950\n",
              "2022-11-26    1206.368410\n",
              "2022-12-03    1317.423498\n",
              "2022-12-10    1255.639022\n",
              "2022-12-17    1297.092717\n",
              "2022-12-24    1250.971604\n",
              "Freq: W-SAT, Name: ARIMA Predictions, dtype: float64"
            ]
          },
          "metadata": {},
          "execution_count": 47
        }
      ],
      "source": [
        "prediction"
      ]
    }
  ],
  "metadata": {
    "kernelspec": {
      "display_name": "Python 3",
      "language": "python",
      "name": "python3"
    },
    "language_info": {
      "codemirror_mode": {
        "name": "ipython",
        "version": 3
      },
      "file_extension": ".py",
      "mimetype": "text/x-python",
      "name": "python",
      "nbconvert_exporter": "python",
      "pygments_lexer": "ipython3",
      "version": "3.8.5"
    },
    "colab": {
      "provenance": []
    }
  },
  "nbformat": 4,
  "nbformat_minor": 0
}